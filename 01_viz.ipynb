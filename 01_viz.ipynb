{
 "cells": [
  {
   "cell_type": "code",
   "execution_count": null,
   "id": "c1421bda",
   "metadata": {},
   "outputs": [],
   "source": [
    "# default_exp viz"
   ]
  },
  {
   "cell_type": "markdown",
   "id": "485b57b6",
   "metadata": {},
   "source": [
    "# Vizualisation\n",
    "\n",
    "> API details."
   ]
  },
  {
   "cell_type": "markdown",
   "id": "2b3a4aea",
   "metadata": {},
   "source": [
    "## Class methods"
   ]
  },
  {
   "cell_type": "code",
   "execution_count": null,
   "id": "965d3b2f",
   "metadata": {},
   "outputs": [],
   "source": [
    "#hide\n",
    "from nbdev.showdoc import *\n",
    "%load_ext autoreload\n",
    "%autoreload 2"
   ]
  },
  {
   "cell_type": "code",
   "execution_count": null,
   "id": "17ad6987",
   "metadata": {},
   "outputs": [],
   "source": [
    "#exporti\n",
    "import matplotlib.pyplot as plt\n",
    "import matplotlib.cm as colormaps"
   ]
  },
  {
   "cell_type": "code",
   "execution_count": null,
   "id": "20c8047c",
   "metadata": {},
   "outputs": [],
   "source": [
    "#export\n",
    "def plot_u_matrix(u_mat, fig_size=(4,4), colormap='viridis_r'):\n",
    "    \"\"\"Plots the U-matrix in matplotlib.\"\"\"\n",
    "    fig, ax = plt.subplots(figsize=fig_size)\n",
    "    ax.imshow(u_mat, interpolation='nearest', cmap=colormap) \n",
    "    aspect='auto'\n",
    "    plt.show()"
   ]
  }
 ],
 "metadata": {
  "kernelspec": {
   "display_name": "Python 3",
   "language": "python",
   "name": "python3"
  }
 },
 "nbformat": 4,
 "nbformat_minor": 5
}
