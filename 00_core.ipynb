{
 "cells": [
  {
   "cell_type": "code",
   "execution_count": null,
   "metadata": {},
   "outputs": [],
   "source": [
    "# default_exp core"
   ]
  },
  {
   "cell_type": "markdown",
   "metadata": {},
   "source": [
    "# NumbaSOM\n",
    "\n",
    "> API details."
   ]
  },
  {
   "cell_type": "code",
   "execution_count": null,
   "metadata": {},
   "outputs": [],
   "source": [
    "#hide\n",
    "from nbdev.showdoc import *\n",
    "%load_ext autoreload\n",
    "%autoreload 2"
   ]
  },
  {
   "cell_type": "code",
   "execution_count": null,
   "metadata": {},
   "outputs": [],
   "source": [
    "#exporti\n",
    "from numbasom.viz import *\n",
    "from numba import jit\n",
    "import numpy as np\n",
    "import math\n",
    "import collections\n",
    "from timeit import default_timer as timer"
   ]
  },
  {
   "cell_type": "code",
   "execution_count": null,
   "metadata": {},
   "outputs": [],
   "source": [
    "#export\n",
    "class SOM:\n",
    "    \"\"\"\n",
    "    A class representing the Self-Organizing Map \n",
    "\n",
    "    Methods\n",
    "    ----\n",
    "    \n",
    "    train(data, num_iterations, is_scaled=True)\n",
    "        Trains the algorithm \n",
    "    \"\"\"\n",
    "    \n",
    "    def __init__(self, som_size, is_torus=False):\n",
    "        \"\"\"\n",
    "        Parameters\n",
    "        ---\n",
    "        som_size : tuple\n",
    "                \n",
    "                The size of the lattice, i.e. (20,30) for 20 rows and 30 columns \n",
    "        \n",
    "        is_torus : bool\n",
    "                \n",
    "                is_torus=True, changes the topology to a torus\n",
    "            \n",
    "        Returns\n",
    "        ---\n",
    "        The SOM object that can be trained.\n",
    "        \"\"\"\n",
    "        self.som_size=som_size\n",
    "        self.is_torus=is_torus\n",
    "        \n",
    "    def train(self, data, num_iterations, normalize=False):\n",
    "        \"\"\"Trains the algorithm and returns the lattice.\n",
    "\n",
    "        If `normalize` is False, there will be no normalization of the input data.\n",
    "\n",
    "        Parameters\n",
    "        ---\n",
    "        data : numpy array\n",
    "        \n",
    "            The input data tensor of the shape NxD, where:\n",
    "            N - instances axis\n",
    "            D - features axis\n",
    "            \n",
    "        num_iterations : int\n",
    "        \n",
    "            The number of iterations the algorithm will run. \n",
    "            \n",
    "        normalize : boolean, optional\n",
    "        \n",
    "            If True, the data will be normalized\n",
    "\n",
    "        Returns\n",
    "        --\n",
    "        The lattice of the shape (R,C,D):\n",
    "        \n",
    "        R - number of rows; C - number of columns; D - features axis\n",
    "        \"\"\"\n",
    "        data_scaled = data\n",
    "        if normalize:\n",
    "            start = timer()\n",
    "            data_scaled = normalize_data(data)\n",
    "            end = timer()\n",
    "            print(\"Data scaling took: %f seconds.\" %(end - start))\n",
    "        start = timer()\n",
    "        lattice = som_calc(self.som_size, num_iterations, data_scaled, self.is_torus)\n",
    "        end = timer()\n",
    "        print(\"SOM training took: %f seconds.\" %(end - start))  \n",
    "        return lattice"
   ]
  },
  {
   "cell_type": "code",
   "execution_count": null,
   "metadata": {},
   "outputs": [
    {
     "data": {
      "text/markdown": [
       "<h4 id=\"SOM.__init__\" class=\"doc_header\"><code>SOM.__init__</code><a href=\"__main__.py#L13\" class=\"source_link\" style=\"float:right\">[source]</a></h4>\n",
       "\n",
       "> <code>SOM.__init__</code>(**`som_size`**, **`is_torus`**=*`False`*)\n",
       "\n",
       "Parameters\n",
       "---\n",
       "som_size : tuple\n",
       "        \n",
       "        The size of the lattice, i.e. (20,30) for 20 rows and 30 columns \n",
       "\n",
       "is_torus : bool\n",
       "        \n",
       "        is_torus=True, changes the topology to a torus\n",
       "    \n",
       "Returns\n",
       "---\n",
       "The SOM object that can be trained."
      ],
      "text/plain": [
       "<IPython.core.display.Markdown object>"
      ]
     },
     "metadata": {},
     "output_type": "display_data"
    }
   ],
   "source": [
    "show_doc(SOM.__init__)"
   ]
  },
  {
   "cell_type": "markdown",
   "metadata": {},
   "source": [
    "Let's create a SOM with 20 rows and 30 columns"
   ]
  },
  {
   "cell_type": "code",
   "execution_count": null,
   "metadata": {},
   "outputs": [],
   "source": [
    "som = SOM(som_size=(5,8))"
   ]
  },
  {
   "cell_type": "markdown",
   "metadata": {},
   "source": [
    "## class Methods"
   ]
  },
  {
   "cell_type": "code",
   "execution_count": null,
   "metadata": {},
   "outputs": [
    {
     "data": {
      "text/markdown": [
       "<h4 id=\"SOM.train\" class=\"doc_header\"><code>SOM.train</code><a href=\"__main__.py#L32\" class=\"source_link\" style=\"float:right\">[source]</a></h4>\n",
       "\n",
       "> <code>SOM.train</code>(**`data`**, **`num_iterations`**, **`normalize`**=*`False`*)\n",
       "\n",
       "Trains the algorithm and returns the lattice.\n",
       "\n",
       "If `normalize` is False, there will be no normalization of the input data.\n",
       "\n",
       "Parameters\n",
       "---\n",
       "data : numpy array\n",
       "\n",
       "    The input data tensor of the shape NxD, where:\n",
       "    N - instances axis\n",
       "    D - features axis\n",
       "    \n",
       "num_iterations : int\n",
       "\n",
       "    The number of iterations the algorithm will run. \n",
       "    \n",
       "normalize : boolean, optional\n",
       "\n",
       "    If True, the data will be normalized\n",
       "\n",
       "Returns\n",
       "--\n",
       "The lattice of the shape (R,C,D):\n",
       "\n",
       "R - number of rows; C - number of columns; D - features axis"
      ],
      "text/plain": [
       "<IPython.core.display.Markdown object>"
      ]
     },
     "metadata": {},
     "output_type": "display_data"
    }
   ],
   "source": [
    "show_doc(SOM.train)"
   ]
  },
  {
   "cell_type": "code",
   "execution_count": null,
   "metadata": {},
   "outputs": [],
   "source": [
    "#exporti\n",
    "@jit(nopython=True)\n",
    "def normalize_with_mutate(data, min_val=0, max_val=1):\n",
    "\n",
    "    no_vectors, dim = data.shape\n",
    "    #D = np.empty((no_vectors,dim), dtype=np.float64)\n",
    "    inf = 1.7976931348623157e+308\n",
    "    min_arr = np.empty(dim, dtype=np.float64)\n",
    "    min_arr[:] = inf\n",
    "    max_arr = np.empty(dim, dtype=np.float64)\n",
    "    max_arr[:] = -inf\n",
    "    diff = np.empty(dim, dtype=np.float64)\n",
    "\n",
    "    for vec in range(no_vectors):\n",
    "        for d in range(dim):\n",
    "            val = data[vec,d]\n",
    "            if val < min_arr[d]:\n",
    "                min_arr[d] = val\n",
    "            if val > max_arr[d]:\n",
    "                max_arr[d] = val\n",
    "\n",
    "    for d in range(dim):\n",
    "        diff[d] = max_arr[d] - min_arr[d]\n",
    "   \n",
    "    for i in range(no_vectors):\n",
    "        for j in range(dim):\n",
    "            data[i,j] = (data[i, j] - min_arr[j]) / diff[j]"
   ]
  },
  {
   "cell_type": "code",
   "execution_count": null,
   "metadata": {},
   "outputs": [],
   "source": [
    "#exporti\n",
    "def pairwise(X):\n",
    "    M = X.shape[0]\n",
    "    N = X.shape[1]\n",
    "    D = np.empty((M, M), dtype=np.float64)\n",
    "    for i in range(M):\n",
    "        for j in range(M):\n",
    "            d = 0.0\n",
    "            for k in range(N):\n",
    "                tmp = X[i, k] - X[j, k]\n",
    "                d += tmp * tmp\n",
    "            D[i, j] = np.sqrt(d)\n",
    "    return D"
   ]
  },
  {
   "cell_type": "code",
   "execution_count": null,
   "metadata": {},
   "outputs": [],
   "source": [
    "#exporti\n",
    "def pairwise_squared(X):\n",
    "    M = X.shape[0]\n",
    "    N = X.shape[1]\n",
    "    # type will depend on the size of the matrix\n",
    "    D = np.empty((M, M), dtype=np.uint32)\n",
    "    for i in range(M):\n",
    "        for j in range(M):\n",
    "            d = 0.0\n",
    "            for k in range(N):\n",
    "                tmp = X[i, k] - X[j, k]\n",
    "                d += tmp * tmp\n",
    "            D[i, j] = d\n",
    "    return D"
   ]
  },
  {
   "cell_type": "code",
   "execution_count": null,
   "metadata": {},
   "outputs": [],
   "source": [
    "#exporti\n",
    "@jit(nopython=True)\n",
    "def random_lattice(som_size, dimensionality):\n",
    "    size = (som_size[0], som_size[1], dimensionality)\n",
    "    return np.random.random(size)"
   ]
  },
  {
   "cell_type": "code",
   "execution_count": null,
   "metadata": {},
   "outputs": [],
   "source": [
    "#exporti\n",
    "@jit\n",
    "def get_all_BMU_indexes(BMU, X, Y):\n",
    "    BMUx, BMUy = BMU[0], BMU[1]\n",
    "    BMU2x, BMU3x, BMU4x = BMU[0], BMU[0], BMU[0]\n",
    "    BMU2y, BMU3y, BMU4y = BMU[1], BMU[1], BMU[1]\n",
    "    \n",
    "    if BMUx > X / 2:\n",
    "        BMU2x = BMUx - X\n",
    "    else:\n",
    "        BMU2x = BMUx + X\n",
    "    if BMUy > Y / 2:\n",
    "        BMU3y = BMUy - Y\n",
    "    else:\n",
    "        BMU3y = BMUy + Y\n",
    "    BMU4x = BMU2x\n",
    "    BMU4y = BMU3y \n",
    "    return BMU, (BMU2x, BMU2y), (BMU3x, BMU3y), (BMU4x, BMU4y)"
   ]
  },
  {
   "cell_type": "code",
   "execution_count": null,
   "metadata": {},
   "outputs": [],
   "source": [
    "#exporti\n",
    "@jit(nopython=True)\n",
    "def som_calc(som_size, num_iterations, data, is_torus=False):\n",
    "    initial_radius = (max(som_size[0],som_size[1])/2)**2\n",
    "    time_constant = num_iterations/math.log(initial_radius)\n",
    "    start_lrate = 0.1\n",
    "    lattice = random_lattice(som_size, data.shape[1])\n",
    "    datalen = len(data)\n",
    "    X, Y, Z = lattice.shape\n",
    "\n",
    "    for current_iteration in range(num_iterations):\n",
    "        current_radius = initial_radius * math.exp(-current_iteration/time_constant)\n",
    "        current_lrate = start_lrate * math.exp(-current_iteration/num_iterations)\n",
    "        rand_input = np.random.randint(datalen)\n",
    "        rand_vector = data[rand_input]\n",
    "\n",
    "        BMU_dist = 1.7976931348623157e+308\n",
    "        BMU = (0,0)\n",
    "\n",
    "        for x in range(X):\n",
    "            for y in range(Y):\n",
    "                d = 0.0\n",
    "                for z in range(Z):\n",
    "                    val = lattice[x,y,z]-rand_vector[z]\n",
    "                    valsqr = val * val\n",
    "                    d += valsqr\n",
    "\n",
    "                if d < BMU_dist:\n",
    "                    BMU_dist = d\n",
    "                    BMU = (x,y)\n",
    "        \n",
    "        if is_torus:\n",
    "            BMUs = get_all_BMU_indexes(BMU, X, Y)\n",
    "            \n",
    "            for BMU in BMUs:\n",
    "                adapt(lattice, rand_vector, BMU, current_radius, current_lrate)\n",
    "\n",
    "        else:\n",
    "            adapt(lattice, rand_vector, BMU, current_radius, current_lrate)\n",
    "\n",
    "    return lattice"
   ]
  },
  {
   "cell_type": "code",
   "execution_count": null,
   "metadata": {},
   "outputs": [],
   "source": [
    "#exporti\n",
    "@jit(nopython=True)\n",
    "def adapt(lattice, rand_vector, BMU, current_radius, current_lrate):\n",
    "    X, Y, Z = lattice.shape\n",
    "    for x in range(X):\n",
    "        for y in range(Y):\n",
    "            a = x-BMU[0]\n",
    "            b = y-BMU[1]\n",
    "            d = a*a + b*b\n",
    "            if d < current_radius:\n",
    "                up = d * d\n",
    "                down = current_radius * current_radius\n",
    "                res = -up / (2 * down)\n",
    "                influence = math.exp(res)\n",
    "                for z in range(Z):\n",
    "                    diff = (rand_vector[z] - lattice[x,y,z]) * influence * current_lrate\n",
    "                    lattice[x,y,z] += diff"
   ]
  },
  {
   "cell_type": "code",
   "execution_count": null,
   "metadata": {},
   "outputs": [],
   "source": [
    "#exporti\n",
    "@jit(nopython=True)\n",
    "def euclidean(vec1, vec2):\n",
    "    L = vec1.shape[0]\n",
    "    dist = 0\n",
    "    for l in range(L):\n",
    "        val = vec2[l] - vec1[l]\n",
    "        valsqr = val * val\n",
    "        dist += valsqr\n",
    "    return math.sqrt(dist)\n",
    "\n",
    "@jit(nopython=True)\n",
    "def euclidean_squared(vec1, vec2):\n",
    "    L = vec1.shape[0]\n",
    "    dist = 0\n",
    "    for l in range(L):\n",
    "        val = vec2[l] - vec1[l]\n",
    "        valsqr = val * val\n",
    "        dist += valsqr\n",
    "    return dist"
   ]
  },
  {
   "cell_type": "code",
   "execution_count": null,
   "metadata": {},
   "outputs": [],
   "source": [
    "#exporti\n",
    "@jit(nopython=True)\n",
    "def find_closest_data_index(lattice_vec, data):\n",
    "    min_val = 1.7976931348623157e+308\n",
    "    winning_index = -1\n",
    "    data_len = len(data)\n",
    "    for i in range(data_len):\n",
    "        data_point = data[i]\n",
    "        dist = euclidean_squared(lattice_vec,data_point)\n",
    "        if dist < min_val:\n",
    "            min_val = dist\n",
    "            winning_index = i\n",
    "    return winning_index"
   ]
  },
  {
   "cell_type": "code",
   "execution_count": null,
   "metadata": {},
   "outputs": [],
   "source": [
    "#exporti\n",
    "@jit(nopython=True)\n",
    "def find_closest(index, vec, lattice):\n",
    "    X, Y, Z = lattice.shape\n",
    "    min_val = 1.7976931348623157e+308\n",
    "    win_index = -1\n",
    "    win_cell = (-1,-1)\n",
    "    for x in range(X):\n",
    "        for y in range(Y):\n",
    "            dist = euclidean_squared(vec, lattice[x,y])\n",
    "            if dist < min_val:\n",
    "                min_val = dist\n",
    "                win_index = index\n",
    "                win_cell = (x,y)\n",
    "    return win_cell, win_index"
   ]
  },
  {
   "cell_type": "code",
   "execution_count": null,
   "metadata": {},
   "outputs": [],
   "source": [
    "#exporti\n",
    "@jit(nopython=True)\n",
    "def distances_to_lattice_vec(vec, lattice):\n",
    "    X, Y, Z = lattice.shape\n",
    "    empty = np.empty((X,Y))\n",
    "    for x in range(X):\n",
    "        for y in range(Y):\n",
    "            dist = euclidean_squared(vec, lattice[x,y])\n",
    "            empty[x,y] = dist\n",
    "    return empty"
   ]
  },
  {
   "cell_type": "code",
   "execution_count": null,
   "metadata": {},
   "outputs": [],
   "source": [
    "#exporti\n",
    "@jit(nopython=True)\n",
    "def distances_to_lattice_matrix(veclist, lattice):\n",
    "    N, _ = veclist.shape\n",
    "    X, Y, _ = lattice.shape\n",
    "    res = np.empty((N, X, Y))\n",
    "    for n in range(N):\n",
    "        res[n] = distances_to_lattice_vec(veclist[n], lattice)\n",
    "    return res"
   ]
  },
  {
   "cell_type": "code",
   "execution_count": null,
   "metadata": {},
   "outputs": [],
   "source": [
    "#exporti\n",
    "@jit(nopython=True)\n",
    "def normalize_data(data, min_val=0, max_val=1):\n",
    "    \"\"\"Normalizes the data between `min_val` and `max_val`\n",
    "\n",
    "        Parameters\n",
    "        ----------\n",
    "        data : numpy array\n",
    "        \n",
    "            The input data tensor of the shape NxD, where:\n",
    "            N - instances axis\n",
    "            D - features axis\n",
    "            \n",
    "        min_val : int, default 0\n",
    "        \n",
    "            Minimum\n",
    "            \n",
    "        max_val : int, default 1\n",
    "        \n",
    "            Maximum\n",
    "\n",
    "        Returns\n",
    "        -------\n",
    "        The lattice of the shape (R,C,D):\n",
    "        R - number of rows; C - number of columns; D - features axis\n",
    "        \"\"\"\n",
    "    no_vectors, dim = data.shape\n",
    "    D = np.empty((no_vectors,dim), dtype=np.float64)\n",
    "    inf = 1.7976931348623157e+308\n",
    "    min_arr = np.empty(dim, dtype=np.float64)\n",
    "    min_arr[:] = inf\n",
    "    max_arr = np.empty(dim, dtype=np.float64)\n",
    "    max_arr[:] = -inf\n",
    "    diff = np.empty(dim, dtype=np.float64)\n",
    "\n",
    "    for vec in range(no_vectors):\n",
    "        for d in range(dim):\n",
    "            val = data[vec,d]\n",
    "            if val < min_arr[d]:\n",
    "                min_arr[d] = val\n",
    "            if val > max_arr[d]:\n",
    "                max_arr[d] = val\n",
    "\n",
    "    for d in range(dim):\n",
    "        diff[d] = max_arr[d] - min_arr[d]\n",
    "   \n",
    "    for i in range(no_vectors):\n",
    "        for j in range(dim):\n",
    "            if diff[j] != 0:\n",
    "                D[i,j] = (data[i, j] - min_arr[j]) / diff[j]\n",
    "            else:\n",
    "                D[i,j] = 0\n",
    "    return D"
   ]
  },
  {
   "cell_type": "markdown",
   "metadata": {},
   "source": [
    "Let's create 10 random 3-dimensional data points:"
   ]
  },
  {
   "cell_type": "code",
   "execution_count": null,
   "metadata": {},
   "outputs": [],
   "source": [
    "my_data = np.random.random([10,3])"
   ]
  },
  {
   "cell_type": "code",
   "execution_count": null,
   "metadata": {},
   "outputs": [
    {
     "name": "stdout",
     "output_type": "stream",
     "text": [
      "SOM training took: 0.000346 seconds.\n"
     ]
    }
   ],
   "source": [
    "lattice = som.train(my_data, 1000)"
   ]
  },
  {
   "cell_type": "markdown",
   "metadata": {},
   "source": [
    "Let's see what is in the lattice's cell (1,1):"
   ]
  },
  {
   "cell_type": "code",
   "execution_count": null,
   "metadata": {},
   "outputs": [
    {
     "data": {
      "text/plain": [
       "array([0.26362582, 0.71801255, 0.51536403])"
      ]
     },
     "execution_count": null,
     "metadata": {},
     "output_type": "execute_result"
    }
   ],
   "source": [
    "lattice[1,1]"
   ]
  },
  {
   "cell_type": "markdown",
   "metadata": {},
   "source": [
    "## Module Methods"
   ]
  },
  {
   "cell_type": "markdown",
   "metadata": {},
   "source": [
    "If we have an non-normalized data vector p:"
   ]
  },
  {
   "cell_type": "code",
   "execution_count": null,
   "metadata": {},
   "outputs": [
    {
     "data": {
      "text/plain": [
       "array([[ 4.20136335],\n",
       "       [-1.28325624],\n",
       "       [-2.81738635],\n",
       "       [ 3.09437277],\n",
       "       [ 2.75269975],\n",
       "       [ 4.4642039 ],\n",
       "       [ 0.25853544],\n",
       "       [ 5.12622384],\n",
       "       [ 0.48275023],\n",
       "       [-0.26705081]])"
      ]
     },
     "execution_count": null,
     "metadata": {},
     "output_type": "execute_result"
    }
   ],
   "source": [
    "p = np.random.randn(10,1)*3 + 2\n",
    "p"
   ]
  },
  {
   "cell_type": "markdown",
   "metadata": {},
   "source": [
    "We can use `normalize_data` function to set the values between `min_val` and `max_val`:"
   ]
  },
  {
   "cell_type": "code",
   "execution_count": null,
   "metadata": {},
   "outputs": [
    {
     "data": {
      "text/plain": [
       "array([[0.88357177],\n",
       "       [0.19312757],\n",
       "       [0.        ],\n",
       "       [0.74421566],\n",
       "       [0.70120335],\n",
       "       [0.91666007],\n",
       "       [0.38721963],\n",
       "       [1.        ],\n",
       "       [0.41544543],\n",
       "       [0.32105497]])"
      ]
     },
     "execution_count": null,
     "metadata": {},
     "output_type": "execute_result"
    }
   ],
   "source": [
    "normalize_data(p, min_val=0, max_val=1)"
   ]
  },
  {
   "cell_type": "code",
   "execution_count": null,
   "metadata": {},
   "outputs": [],
   "source": [
    "#export\n",
    "@jit(nopython=True)\n",
    "def u_matrix(lattice):\n",
    "    \"\"\"Builds a U-matrix on top of the trained lattice.\n",
    "\n",
    "        Parameters\n",
    "        ---\n",
    "        lattice : list\n",
    "        \n",
    "            The SOM generated lattice\n",
    "\n",
    "        Returns\n",
    "        ---\n",
    "        The lattice of the shape (R,C):\n",
    "        \n",
    "        R - number of rows; C - number of columns;\n",
    "        \"\"\"\n",
    "    X, Y, Z = lattice.shape\n",
    "    u_values = np.empty((X,Y), dtype=np.float64)\n",
    "    \n",
    "    for y in range(Y):\n",
    "        for x in range(X):\n",
    "            current = lattice[x,y]\n",
    "            dist = 0\n",
    "            num_neigh = 0\n",
    "            # left\n",
    "            if x-1 >= 0:\n",
    "                #middle\n",
    "                vec = lattice[x-1,y]\n",
    "                dist += euclidean(current, vec)\n",
    "                num_neigh += 1\n",
    "                if y - 1 >= 0:\n",
    "                    #sup\n",
    "                    vec = lattice[x-1, y-1]\n",
    "                    dist += euclidean(current, vec)\n",
    "                    num_neigh += 1\n",
    "                if y + 1 < Y:\n",
    "                    # down\n",
    "                    vec = lattice[x-1,y+1]\n",
    "                    dist += euclidean(current, vec)\n",
    "                    num_neigh += 1\n",
    "            # middle        \n",
    "            if y - 1 >= 0:\n",
    "                # up\n",
    "                vec = lattice[x,y-1]\n",
    "                dist += euclidean(current, vec)\n",
    "                num_neigh += 1\n",
    "            # down\n",
    "            if y + 1 < Y:\n",
    "                vec = lattice[x,y+1]\n",
    "                dist += euclidean(current, vec)\n",
    "                num_neigh += 1\n",
    "            # right\n",
    "            if x + 1 < X:\n",
    "                # middle\n",
    "                vec = lattice[x+1,y]\n",
    "                dist += euclidean(current, vec)\n",
    "                num_neigh += 1\n",
    "                if y - 1 >= 0:\n",
    "                    #up\n",
    "                    vec = lattice[x+1,y-1]\n",
    "                    dist += euclidean(current, vec)\n",
    "                    num_neigh += 1\n",
    "                if y + 1 < lattice.shape[1]:\n",
    "                    # down\n",
    "                    vec = lattice[x+1,y+1]\n",
    "                    dist += euclidean(current, vec)\n",
    "                    num_neigh += 1       \n",
    "            u_values[x,y] = dist / num_neigh\n",
    "    return u_values"
   ]
  },
  {
   "cell_type": "markdown",
   "metadata": {},
   "source": [
    "Let's create a U-matrix of the lattice, and check its shape:"
   ]
  },
  {
   "cell_type": "code",
   "execution_count": null,
   "metadata": {},
   "outputs": [
    {
     "data": {
      "text/plain": [
       "(5, 8)"
      ]
     },
     "execution_count": null,
     "metadata": {},
     "output_type": "execute_result"
    }
   ],
   "source": [
    "um = u_matrix(lattice)\n",
    "um.shape"
   ]
  },
  {
   "cell_type": "code",
   "execution_count": null,
   "metadata": {},
   "outputs": [],
   "source": [
    "#export\n",
    "def project_on_lattice(data, lattice, additional_list=None, normalize=False):\n",
    "    \"\"\"Projects the data set to the trained lattice.\n",
    "\n",
    "        Parameters\n",
    "        ---\n",
    "        data : numpy array\n",
    "        \n",
    "            The input data tensor of the shape NxD, where:\n",
    "            N - instances axis\n",
    "            D - features axis\n",
    "            \n",
    "        additional_list : int, optional\n",
    "        \n",
    "            You can additionally pass a vector of the same length as `data` \n",
    "            with labels describing each data point in any way. \n",
    "            This value will be then associated with the function's output.\n",
    "            \n",
    "        normalize : boolean, optional\n",
    "        \n",
    "            If True, the data will be normalized\n",
    "\n",
    "        Returns\n",
    "        --\n",
    "        A dictionary whose keys are indexes of the lattice's cells, \n",
    "        and whose values are data points belonging to each cell\n",
    "        \"\"\"\n",
    "    start = timer()\n",
    "    if not normalize:\n",
    "        data_scaled = data\n",
    "    else:\n",
    "        data_scaled = normalize_data(data)\n",
    "    \n",
    "    #create all keys\n",
    "    projected = collections.defaultdict(list)\n",
    "    X, Y, Z = lattice.shape\n",
    "    for x in range(X):\n",
    "        for y in range(Y):\n",
    "            projected[(x,y)]\n",
    "    # fill keys\n",
    "    for index, vec in enumerate(data_scaled):\n",
    "        winning_cell, wi = find_closest(index, vec, lattice)\n",
    "        projected[winning_cell].append(wi)\n",
    "    if additional_list:\n",
    "        final = {key: [additional_list[v] for v in value] for key, value in projected.items()}\n",
    "    else:\n",
    "        final = {key: [data[v] for v in value] for key, value in projected.items()}\n",
    "    end = timer()\n",
    "    print(\"Projecting on SOM took: %f seconds.\" %(end - start))  \n",
    "    return final"
   ]
  },
  {
   "cell_type": "markdown",
   "metadata": {},
   "source": [
    "Let's project onto the lattice:"
   ]
  },
  {
   "cell_type": "code",
   "execution_count": null,
   "metadata": {},
   "outputs": [
    {
     "name": "stdout",
     "output_type": "stream",
     "text": [
      "Projecting on SOM took: 0.154747 seconds.\n",
      "(0, 0) [0.44394013 0.82009467 0.01191742]\n",
      "(0, 3) [0.86938509 0.79676988 0.16149487]\n",
      "(0, 5) [0.60375427 0.5522568  0.24649728]\n",
      "(0, 7) [0.1786339  0.10732586 0.21637102]\n",
      "(2, 1) [0.1748882  0.6770097  0.71589243]\n",
      "(2, 4) [0.70554175 0.60244867 0.29889977]\n",
      "(2, 7) [0.51614631 0.2731998  0.39448849]\n",
      "(4, 0) [0.03016391 0.71200918 0.82974036]\n",
      "(4, 3) [0.77125934 0.67477822 0.66644766]\n",
      "(4, 6) [0.84166406 0.38191879 0.29666319]\n"
     ]
    }
   ],
   "source": [
    "projection = project_on_lattice(my_data, lattice)\n",
    "for p in projection:\n",
    "    if projection[p]:\n",
    "        print (p, projection[p][0])"
   ]
  },
  {
   "cell_type": "code",
   "execution_count": null,
   "metadata": {},
   "outputs": [],
   "source": [
    "#export\n",
    "def lattice_activations(data, lattice, normalize=False, exponent=1):\n",
    "    \"\"\"Projects the data on the lattice, and computes the vector of activations for each data point.\n",
    "\n",
    "        Parameters\n",
    "        ---\n",
    "        data : numpy array\n",
    "        \n",
    "            The input data tensor of the shape NxD, where:\n",
    "            N - instances axis\n",
    "            D - features axis\n",
    "            \n",
    "        normalize : boolean, optional\n",
    "        \n",
    "            If True, the data will be normalized\n",
    "\n",
    "        exponent : float, optional\n",
    "            \n",
    "            if different from 1, activations will be raised \n",
    "            to the power of the exponent and then normalized between 0 and 1\n",
    "\n",
    "        Returns\n",
    "        --\n",
    "        A tensor of lattice activations\n",
    "        \"\"\"\n",
    "    start = timer()\n",
    "    projected = []\n",
    "    if not normalize:\n",
    "        data_scaled = data\n",
    "    else:\n",
    "        data_scaled = normalize_data(data)\n",
    "        \n",
    "    # computing distances to the lattice\n",
    "    projected = distances_to_lattice_matrix(data_scaled, lattice)\n",
    "    if exponent==1:\n",
    "        scaled = projected.max() - projected\n",
    "    else:\n",
    "        scaled = np.power((projected.max() - projected),exponent)\n",
    "    valmin, valmax = scaled.min(), scaled.max()\n",
    "    scaled = (scaled - valmin) / (valmax - valmin)\n",
    "    end = timer()\n",
    "    print(\"Getting SOM activations took: %f seconds.\" %(end - start))  \n",
    "    return scaled"
   ]
  },
  {
   "cell_type": "markdown",
   "metadata": {},
   "source": [
    "Let us compute how the vector activates the lattice. (Euclidean distance from each cell)"
   ]
  },
  {
   "cell_type": "code",
   "execution_count": null,
   "metadata": {},
   "outputs": [
    {
     "name": "stdout",
     "output_type": "stream",
     "text": [
      "Getting SOM activations took: 0.000074 seconds.\n"
     ]
    }
   ],
   "source": [
    "scaled = lattice_activations(my_data, lattice, exponent=8)"
   ]
  },
  {
   "cell_type": "markdown",
   "metadata": {},
   "source": [
    "Activations of the data point 0:"
   ]
  },
  {
   "cell_type": "code",
   "execution_count": null,
   "metadata": {},
   "outputs": [
    {
     "data": {
      "text/plain": [
       "array([[0.22, 0.25, 1.  , 1.  , 0.81, 0.35, 0.03, 0.  ],\n",
       "       [0.19, 0.01, 0.46, 0.97, 0.57, 0.38, 0.03, 0.  ],\n",
       "       [0.  , 0.  , 0.  , 0.57, 0.53, 0.5 , 0.03, 0.02],\n",
       "       [0.  , 0.  , 0.02, 0.18, 0.47, 0.39, 0.2 , 0.04],\n",
       "       [0.  , 0.  , 0.07, 0.11, 0.14, 0.24, 0.23, 0.23]])"
      ]
     },
     "execution_count": null,
     "metadata": {},
     "output_type": "execute_result"
    }
   ],
   "source": [
    "scaled[0].round(2)"
   ]
  },
  {
   "cell_type": "markdown",
   "metadata": {},
   "source": [
    "Activations of the data point 5:"
   ]
  },
  {
   "cell_type": "code",
   "execution_count": null,
   "metadata": {},
   "outputs": [
    {
     "data": {
      "text/plain": [
       "array([[0.  , 0.  , 0.  , 0.  , 0.  , 0.03, 0.03, 0.01],\n",
       "       [0.02, 0.7 , 0.07, 0.  , 0.01, 0.02, 0.04, 0.03],\n",
       "       [0.99, 1.  , 0.87, 0.02, 0.02, 0.02, 0.04, 0.04],\n",
       "       [0.84, 0.99, 0.5 , 0.06, 0.03, 0.  , 0.  , 0.03],\n",
       "       [0.8 , 0.82, 0.14, 0.06, 0.05, 0.  , 0.  , 0.  ]])"
      ]
     },
     "execution_count": null,
     "metadata": {},
     "output_type": "execute_result"
    }
   ],
   "source": [
    "scaled[5].round(2)"
   ]
  },
  {
   "cell_type": "code",
   "execution_count": null,
   "metadata": {},
   "outputs": [],
   "source": [
    "#export\n",
    "def lattice_closest_vectors(data, lattice, additional_list=None, normalized=False):\n",
    "    \"\"\"Finds the closest data vector to each cell in the lattice.\n",
    "\n",
    "        Parameters\n",
    "        ---\n",
    "        data : numpy array\n",
    "        \n",
    "            The input data tensor of the shape NxD, where:\n",
    "            N - instances axis\n",
    "            D - features axis\n",
    "            \n",
    "        additional_list : int, optional\n",
    "        \n",
    "            You can additionally pass a vector of the same length as `data` \n",
    "            with labels describing each data point in any way. \n",
    "            This value will be then associated with the function's output.\n",
    "            \n",
    "        normalize : boolean, optional\n",
    "        \n",
    "            If True, the data will be normalized\n",
    "\n",
    "        Returns\n",
    "        --\n",
    "        A dictionary whose keys are indexes of the lattice's cells, \n",
    "        and values the data points closest to each cell\n",
    "        \"\"\"\n",
    "    start = timer()\n",
    "    if not normalized:\n",
    "        data_scaled = data\n",
    "    else:\n",
    "        data_scaled = normalize_data(data)\n",
    "    \n",
    "    X, Y, Z = lattice.shape\n",
    "\n",
    "    # create dictionary\n",
    "    projected = {}\n",
    "    \n",
    "    # fill keys\n",
    "    for x in range(X):\n",
    "        for y in range(Y):\n",
    "            lattice_vec = lattice[x,y]\n",
    "            winning_index = find_closest_data_index(lattice_vec, data_scaled)\n",
    "            if additional_list:\n",
    "                projected[(x,y)] = [additional_list[winning_index]]\n",
    "            else:\n",
    "                projected[(x,y)] = data[winning_index]\n",
    "\n",
    "    end = timer()\n",
    "    print(\"Finding closest data points took: %f seconds.\" %(end - start)) \n",
    "    return projected"
   ]
  },
  {
   "cell_type": "markdown",
   "metadata": {},
   "source": [
    "Let's find the closest vectors to the lattice:"
   ]
  },
  {
   "cell_type": "code",
   "execution_count": null,
   "metadata": {},
   "outputs": [],
   "source": [
    "closest = lattice_closest_vectors(my_data, lattice)\n",
    "for c in closest:\n",
    "    print (c, closest[c])"
   ]
  },
  {
   "cell_type": "code",
   "execution_count": null,
   "metadata": {},
   "outputs": [],
   "source": [
    "#export\n",
    "def save_lattice(lattice, filename):\n",
    "    \"\"\"Saves the lattice as the numpy vector\"\"\"\n",
    "    np.save(filename, lattice)\n",
    "    print (\"SOM lattice saved at %s\" %filename)"
   ]
  },
  {
   "cell_type": "code",
   "execution_count": null,
   "metadata": {},
   "outputs": [],
   "source": [
    "#export\n",
    "def load_lattice(filename):\n",
    "    \"\"\"Loads the lattice as the numpy vector\"\"\"\n",
    "    lattice = np.load(filename)\n",
    "    print (\"SOM lattice loaded from %s\" %filename)\n",
    "    return lattice"
   ]
  }
 ],
 "metadata": {
  "kernelspec": {
   "display_name": "NumbaSOM",
   "language": "python",
   "name": "numbasom"
  }
 },
 "nbformat": 4,
 "nbformat_minor": 2
}
